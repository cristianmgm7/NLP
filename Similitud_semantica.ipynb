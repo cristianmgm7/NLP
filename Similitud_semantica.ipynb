{
 "cells": [
  {
   "cell_type": "code",
   "execution_count": 1,
   "metadata": {},
   "outputs": [
    {
     "name": "stderr",
     "output_type": "stream",
     "text": [
      "[nltk_data] Downloading package omw to\n",
      "[nltk_data]     /Users/cristianmurillo/nltk_data...\n",
      "[nltk_data]   Package omw is already up-to-date!\n",
      "[nltk_data] Downloading package wordnet to\n",
      "[nltk_data]     /Users/cristianmurillo/nltk_data...\n",
      "[nltk_data]   Package wordnet is already up-to-date!\n"
     ]
    }
   ],
   "source": [
    "import nltk\n",
    "nltk.download('omw') # Open Multilingual WordNet\n",
    "nltk.download('wordnet') # WordNet\n",
    "from nltk.corpus import wordnet as wn"
   ]
  },
  {
   "cell_type": "code",
   "execution_count": 3,
   "metadata": {},
   "outputs": [],
   "source": [
    "def show_semantic_relation(word):\n",
    "    ss = wn.synsets(word)\n",
    "    for syn in ss:\n",
    "        print(syn, syn.definition())\n",
    "        for name in syn.lemma_names():\n",
    "            print('*',name)\n",
    "    return ss\n",
    "            "
   ]
  },
  {
   "cell_type": "code",
   "execution_count": 4,
   "metadata": {},
   "outputs": [
    {
     "name": "stdout",
     "output_type": "stream",
     "text": [
      "Synsets de \"dog\"\n",
      "Synset('dog.n.01') a member of the genus Canis (probably descended from the common wolf) that has been domesticated by man since prehistoric times; occurs in many breeds\n",
      "* dog\n",
      "* domestic_dog\n",
      "* Canis_familiaris\n",
      "Synset('frump.n.01') a dull unattractive unpleasant girl or woman\n",
      "* frump\n",
      "* dog\n",
      "Synset('dog.n.03') informal term for a man\n",
      "* dog\n",
      "Synset('cad.n.01') someone who is morally reprehensible\n",
      "* cad\n",
      "* bounder\n",
      "* blackguard\n",
      "* dog\n",
      "* hound\n",
      "* heel\n",
      "Synset('frank.n.02') a smooth-textured sausage of minced beef or pork usually smoked; often served on a bread roll\n",
      "* frank\n",
      "* frankfurter\n",
      "* hotdog\n",
      "* hot_dog\n",
      "* dog\n",
      "* wiener\n",
      "* wienerwurst\n",
      "* weenie\n",
      "Synset('pawl.n.01') a hinged catch that fits into a notch of a ratchet to move a wheel forward or prevent it from moving backward\n",
      "* pawl\n",
      "* detent\n",
      "* click\n",
      "* dog\n",
      "Synset('andiron.n.01') metal supports for logs in a fireplace\n",
      "* andiron\n",
      "* firedog\n",
      "* dog\n",
      "* dog-iron\n",
      "Synset('chase.v.01') go after with the intent to catch\n",
      "* chase\n",
      "* chase_after\n",
      "* trail\n",
      "* tail\n",
      "* tag\n",
      "* give_chase\n",
      "* dog\n",
      "* go_after\n",
      "* track\n",
      "Synsets de \"cat\"\n"
     ]
    }
   ],
   "source": [
    "print('Synsets de \"dog\"')\n",
    "ss = show_semantic_relation('dog')\n",
    "print('Synsets de \"cat\"')"
   ]
  },
  {
   "cell_type": "code",
   "execution_count": 5,
   "metadata": {},
   "outputs": [
    {
     "name": "stdout",
     "output_type": "stream",
     "text": [
      "Synset('cat.n.01') feline mammal usually having thick soft fur and no ability to roar: domestic cats; wildcats\n",
      "* cat\n",
      "* true_cat\n",
      "Synset('guy.n.01') an informal term for a youth or man\n",
      "* guy\n",
      "* cat\n",
      "* hombre\n",
      "* bozo\n",
      "Synset('cat.n.03') a spiteful woman gossip\n",
      "* cat\n",
      "Synset('kat.n.01') the leaves of the shrub Catha edulis which are chewed like tobacco or used to make tea; has the effect of a euphoric stimulant\n",
      "* kat\n",
      "* khat\n",
      "* qat\n",
      "* quat\n",
      "* cat\n",
      "* Arabian_tea\n",
      "* African_tea\n",
      "Synset('cat-o'-nine-tails.n.01') a whip with nine knotted cords\n",
      "* cat-o'-nine-tails\n",
      "* cat\n",
      "Synset('caterpillar.n.02') a large tracked vehicle that is propelled by two endless metal belts; frequently used for moving earth in construction and farm work\n",
      "* Caterpillar\n",
      "* cat\n",
      "Synset('big_cat.n.01') any of several large cats typically able to roar and living in the wild\n",
      "* big_cat\n",
      "* cat\n",
      "Synset('computerized_tomography.n.01') a method of examining body organs by scanning them with X rays and using a computer to construct a series of cross-sectional scans along a single axis\n",
      "* computerized_tomography\n",
      "* computed_tomography\n",
      "* CT\n",
      "* computerized_axial_tomography\n",
      "* computed_axial_tomography\n",
      "* CAT\n",
      "Synset('cat.v.01') beat with a cat-o'-nine-tails\n",
      "* cat\n",
      "Synset('vomit.v.01') eject the contents of the stomach through the mouth\n",
      "* vomit\n",
      "* vomit_up\n",
      "* purge\n",
      "* cast\n",
      "* sick\n",
      "* cat\n",
      "* be_sick\n",
      "* disgorge\n",
      "* regorge\n",
      "* retch\n",
      "* puke\n",
      "* barf\n",
      "* spew\n",
      "* spue\n",
      "* chuck\n",
      "* upchuck\n",
      "* honk\n",
      "* regurgitate\n",
      "* throw_up\n"
     ]
    }
   ],
   "source": [
    "ss2 = show_semantic_relation('cat')"
   ]
  },
  {
   "cell_type": "code",
   "execution_count": 6,
   "metadata": {},
   "outputs": [
    {
     "name": "stdout",
     "output_type": "stream",
     "text": [
      "Synset('animal.n.01') a living organism characterized by voluntary movement\n",
      "* animal\n",
      "* animate_being\n",
      "* beast\n",
      "* brute\n",
      "* creature\n",
      "* fauna\n",
      "Synset('animal.s.01') marked by the appetites and passions of the body\n",
      "* animal\n",
      "* carnal\n",
      "* fleshly\n",
      "* sensual\n"
     ]
    }
   ],
   "source": [
    "ss3 = show_semantic_relation('animal')"
   ]
  },
  {
   "cell_type": "code",
   "execution_count": 7,
   "metadata": {},
   "outputs": [],
   "source": [
    "god = ss[0]\n",
    "cat = ss2[0]\n",
    "animal = ss3[0]"
   ]
  },
  {
   "cell_type": "code",
   "execution_count": 14,
   "metadata": {},
   "outputs": [
    {
     "name": "stdout",
     "output_type": "stream",
     "text": [
      "Distancia entre \"dog\" y \"cat\": 0.2\n",
      "Distancia entre \"dog\" y \"animal\": 0.3333333333333333\n",
      "Distancia entre \"cat\" y \"animal\": 0.125\n"
     ]
    }
   ],
   "source": [
    "distance_dog_cat = god.path_similarity(cat)\n",
    "distance_dog_animal = god.path_similarity(animal)\n",
    "distance_cat_animal = cat.path_similarity(animal)\n",
    "\n",
    "print('Distancia entre \"dog\" y \"cat\":', distance)\n",
    "print('Distancia entre \"dog\" y \"animal\":', distance_dog_animal)\n",
    "print('Distancia entre \"cat\" y \"animal\":', distance_cat_animal)\n"
   ]
  }
 ],
 "metadata": {
  "kernelspec": {
   "display_name": "base",
   "language": "python",
   "name": "python3"
  },
  "language_info": {
   "codemirror_mode": {
    "name": "ipython",
    "version": 3
   },
   "file_extension": ".py",
   "mimetype": "text/x-python",
   "name": "python",
   "nbconvert_exporter": "python",
   "pygments_lexer": "ipython3",
   "version": "3.11.5"
  }
 },
 "nbformat": 4,
 "nbformat_minor": 2
}
