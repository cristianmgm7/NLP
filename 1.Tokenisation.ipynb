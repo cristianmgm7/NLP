{
 "cells": [
  {
   "cell_type": "code",
   "execution_count": 38,
   "metadata": {},
   "outputs": [],
   "source": [
    "import re # Regular expression\n",
    "import nltk # Natural Language Toolkit"
   ]
  },
  {
   "cell_type": "code",
   "execution_count": 28,
   "metadata": {},
   "outputs": [],
   "source": [
    "#write any text in the text variable\n",
    "text = \"\"\"Autumn leaves (rustled) underfoot as the hikerventured \n",
    "deeper into the dense forest. A chorus of birds provided a natural soundtrack, and the scent of pine trees filled the crisp air. The path meandered through the woods, revealing hidden treasures at every turn.\"\"\"\n",
    "#tokenize the text"
   ]
  },
  {
   "cell_type": "code",
   "execution_count": 29,
   "metadata": {},
   "outputs": [
    {
     "name": "stdout",
     "output_type": "stream",
     "text": [
      "['Autumn', 'leaves', '(rustled)', 'underfoot', 'as', 'the', 'hikerventured', '\\ndeeper', 'into', 'the', 'dense', 'forest.', 'A', 'chorus', 'of', 'birds', 'provided', 'a', 'natural', 'soundtrack,', 'and', 'the', 'scent', 'of', 'pine', 'trees', 'filled', 'the', 'crisp', 'air.', 'The', 'path', 'meandered', 'through', 'the', 'woods,', 'revealing', 'hidden', 'treasures', 'at', 'every', 'turn.']\n"
     ]
    }
   ],
   "source": [
    "# case 1: word_tokenize\n",
    "tokenized_word = re.split(' ', text)\n",
    "print(tokenized_word)\n"
   ]
  },
  {
   "cell_type": "code",
   "execution_count": 30,
   "metadata": {},
   "outputs": [
    {
     "name": "stdout",
     "output_type": "stream",
     "text": [
      "['Autumn', 'leaves', '(rustled)', 'underfoot', 'as', 'the', 'hikerventured', 'deeper', 'into', 'the', 'dense', 'forest.', 'A', 'chorus', 'of', 'birds', 'provided', 'a', 'natural', 'soundtrack,', 'and', 'the', 'scent', 'of', 'pine', 'trees', 'filled', 'the', 'crisp', 'air.', 'The', 'path', 'meandered', 'through', 'the', 'woods,', 'revealing', 'hidden', 'treasures', 'at', 'every', 'turn.']\n"
     ]
    }
   ],
   "source": [
    "# case 2: word_tokenize with regex\n",
    "tokenized_word = re.split('[ \\t\\n]+', text) # \\t: tab, \\n: new line\n",
    "print(tokenized_word)"
   ]
  },
  {
   "cell_type": "code",
   "execution_count": 32,
   "metadata": {},
   "outputs": [
    {
     "name": "stdout",
     "output_type": "stream",
     "text": [
      "['Autumn', 'leaves', 'rustled', 'underfoot', 'as', 'the', 'hikerventured', 'deeper', 'into', 'the', 'dense', 'forest', 'A', 'chorus', 'of', 'birds', 'provided', 'a', 'natural', 'soundtrack', 'and', 'the', 'scent', 'of', 'pine', 'trees', 'filled', 'the', 'crisp', 'air', 'The', 'path', 'meandered', 'through', 'the', 'woods', 'revealing', 'hidden', 'treasures', 'at', 'every', 'turn', '']\n"
     ]
    }
   ],
   "source": [
    "# case 3: word_tokenize with regex delite parens\n",
    "tokenized_word = tokenized_word = re.split('[ \\W\\t\\n]+', text) # \\W: non-word character\n",
    "print(tokenized_word)"
   ]
  },
  {
   "cell_type": "markdown",
   "metadata": {},
   "source": [
    "Tokenistion with NLTK\n"
   ]
  },
  {
   "cell_type": "code",
   "execution_count": 33,
   "metadata": {},
   "outputs": [],
   "source": [
    "# complex text \n",
    "text1 = ' In the E.U., Germany and France are both members of the U.N. and the G20.' "
   ]
  },
  {
   "cell_type": "code",
   "execution_count": 42,
   "metadata": {},
   "outputs": [
    {
     "name": "stdout",
     "output_type": "stream",
     "text": [
      "['In', 'the', 'E.U.', ',', 'Germany', 'and', 'France', 'are', 'both', 'members', 'of', 'the', 'U.N.', 'and', 'the', 'G20', '.']\n"
     ]
    }
   ],
   "source": [
    "pattern = r'''(?x)    # set flag to allow verbose regexps\n",
    "...     (?:[A-Z]\\.)+        # abbreviations, e.g. U.S.A.\n",
    "...   | \\w+(?:-\\w+)*        # words with optional internal hyphens\n",
    "...   | \\$?\\d+(?:\\.\\d+)?%?  # currency and percentages, e.g. $12.40, 82%\n",
    "...   | \\.\\.\\.              # ellipsis\n",
    "...   | [][.,;\"'?():-_`]    # these are separate tokens; includes ], [\n",
    "... '''\n",
    "x = nltk.regexp_tokenize(text1, pattern)\n",
    "print(x)\n",
    "\n"
   ]
  },
  {
   "cell_type": "code",
   "execution_count": 35,
   "metadata": {},
   "outputs": [
    {
     "name": "stdout",
     "output_type": "stream",
     "text": [
      "['', 'In', 'the', 'E', 'U', 'Germany', 'and', 'France', 'are', 'both', 'members', 'of', 'the', 'U', 'N', 'and', 'the', 'G20', '']\n"
     ]
    }
   ],
   "source": []
  }
 ],
 "metadata": {
  "kernelspec": {
   "display_name": "base",
   "language": "python",
   "name": "python3"
  },
  "language_info": {
   "codemirror_mode": {
    "name": "ipython",
    "version": 3
   },
   "file_extension": ".py",
   "mimetype": "text/x-python",
   "name": "python",
   "nbconvert_exporter": "python",
   "pygments_lexer": "ipython3",
   "version": "3.11.5"
  }
 },
 "nbformat": 4,
 "nbformat_minor": 2
}
