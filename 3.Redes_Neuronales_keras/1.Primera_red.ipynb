{
 "cells": [
  {
   "cell_type": "code",
   "execution_count": 29,
   "metadata": {},
   "outputs": [],
   "source": [
    "import numpy as np\n",
    "from keras.utils import to_categorical\n",
    "from keras.datasets import mnist\n",
    "import matplotlib.pyplot as plt\n",
    "from keras import layers, models \n"
   ]
  },
  {
   "cell_type": "code",
   "execution_count": 30,
   "metadata": {},
   "outputs": [],
   "source": [
    "(train_images, train_labels), (test_images, test_labels) = mnist.load_data()"
   ]
  },
  {
   "cell_type": "code",
   "execution_count": 31,
   "metadata": {},
   "outputs": [],
   "source": [
    "modelo = models.Sequential()\n",
    "modelo.add(layers.Dense(512, activation='relu', input_shape=(28 * 28,)))\n",
    "modelo.add(layers.Dense(10, activation='softmax'))\n"
   ]
  },
  {
   "cell_type": "code",
   "execution_count": 32,
   "metadata": {},
   "outputs": [],
   "source": [
    "modelo.compile(optimizer='rmsprop',\n",
    "                loss='categorical_crossentropy',\n",
    "                metrics=['accuracy']) # rmsprop es un optimizador de gradiente descendiente, categorical_crossentropy es la función de pérdida que se utiliza para entrenar la red, y accuracy es la fracción de imágenes que se clasifican correctamente.\n",
    "\n",
    "train_images = train_images.reshape((60000, 28 * 28))#Se cambia la forma de la matriz de 28x28 a 784x1\n",
    "train_images = train_images.astype('float32') / 255 #Se normalizan los valores de la matriz\n",
    "test_images = test_images.reshape((10000, 28 * 28))#Se cambia la forma de la matriz de 28x28 a 784x1\n",
    "test_images = test_images.astype('float32') / 255#Se normalizan los valores de la matriz\n",
    "\n",
    "train_labels = to_categorical(train_labels)#Se convierte el vector de 60000x1 a 60000x10\n",
    "test_labels = to_categorical(test_labels)#Se convierte el vector de 10000x1 a 10000x10\n",
    "\n",
    "\n"
   ]
  },
  {
   "cell_type": "code",
   "execution_count": 33,
   "metadata": {},
   "outputs": [
    {
     "name": "stdout",
     "output_type": "stream",
     "text": [
      "Epoch 1/5\n",
      "469/469 [==============================] - 1s 3ms/step - loss: 0.2558 - accuracy: 0.9255\n",
      "Epoch 2/5\n",
      "469/469 [==============================] - 1s 3ms/step - loss: 0.1039 - accuracy: 0.9694\n",
      "Epoch 3/5\n",
      "469/469 [==============================] - 1s 3ms/step - loss: 0.0685 - accuracy: 0.9793\n",
      "Epoch 4/5\n",
      "469/469 [==============================] - 1s 3ms/step - loss: 0.0503 - accuracy: 0.9848\n",
      "Epoch 5/5\n",
      "469/469 [==============================] - 1s 3ms/step - loss: 0.0373 - accuracy: 0.9887\n"
     ]
    }
   ],
   "source": [
    "history = modelo.fit(train_images, train_labels, epochs=5, batch_size=128) #Se entrena el modelo con los datos de entrenamiento"
   ]
  },
  {
   "cell_type": "code",
   "execution_count": 36,
   "metadata": {},
   "outputs": [
    {
     "name": "stdout",
     "output_type": "stream",
     "text": [
      "1/1 [==============================] - 0s 15ms/step\n",
      "7\n"
     ]
    }
   ],
   "source": [
    "example = test_images[0]\n",
    "prediction = modelo.predict(example.reshape(1,784)) #Se predice la imagen\n",
    "print(prediction.argmax()) #Se imprime el número predicho"
   ]
  }
 ],
 "metadata": {
  "kernelspec": {
   "display_name": "base",
   "language": "python",
   "name": "python3"
  },
  "language_info": {
   "codemirror_mode": {
    "name": "ipython",
    "version": 3
   },
   "file_extension": ".py",
   "mimetype": "text/x-python",
   "name": "python",
   "nbconvert_exporter": "python",
   "pygments_lexer": "ipython3",
   "version": "3.11.5"
  }
 },
 "nbformat": 4,
 "nbformat_minor": 2
}
