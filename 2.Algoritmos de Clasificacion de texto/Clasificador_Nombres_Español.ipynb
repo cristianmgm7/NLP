{
 "cells": [
  {
   "cell_type": "code",
   "execution_count": 1,
   "metadata": {},
   "outputs": [
    {
     "name": "stderr",
     "output_type": "stream",
     "text": [
      "[nltk_data] Downloading package names to\n",
      "[nltk_data]     /Users/cristianmurillo/nltk_data...\n",
      "[nltk_data]   Package names is already up-to-date!\n"
     ]
    }
   ],
   "source": [
    "import nltk\n",
    "import random\n",
    "import string\n",
    "nltk.download('names')\n",
    "from nltk.corpus import names\n",
    "import pandas as pd"
   ]
  },
  {
   "cell_type": "code",
   "execution_count": 4,
   "metadata": {},
   "outputs": [],
   "source": [
    "hombres = pd.read_csv('/Users/cristianmurillo/Documents/Data scientis /NLP/spanish-names-surnames/male_names.csv')\n",
    "mujeres = pd.read_csv('/Users/cristianmurillo/Documents/Data scientis /NLP/spanish-names-surnames/female_names.csv')"
   ]
  },
  {
   "cell_type": "code",
   "execution_count": 5,
   "metadata": {},
   "outputs": [],
   "source": [
    "def more_atribs(word):\n",
    "    atrib = {}\n",
    "    if isinstance(word, str):\n",
    "        atrib['first_letter'] = word[0].lower()\n",
    "        atrib['last_letter'] = word[-1].lower()\n",
    "        for letter in 'abcdefghijklmnopqrstuvwxyz':\n",
    "            atrib['count({})'.format(letter)] = word.lower().count(letter)\n",
    "            atrib['has({})'.format(letter)] = (letter in word.lower())\n",
    "    return atrib"
   ]
  },
  {
   "cell_type": "code",
   "execution_count": 7,
   "metadata": {},
   "outputs": [],
   "source": [
    "nombres = [(nombre,'male') for nombre in hombres.name]+[(nambre,'femele') for nambre in mujeres.name] # Lista de tuplas\n",
    "random.shuffle(nombres) # Mezcla la lista\n"
   ]
  },
  {
   "cell_type": "code",
   "execution_count": 8,
   "metadata": {},
   "outputs": [],
   "source": [
    "caracteristicas = [(more_atribs(n),g) for (n,g) in nombres] # Lista de tuplas con atributos y genero de la persona "
   ]
  },
  {
   "cell_type": "code",
   "execution_count": 26,
   "metadata": {},
   "outputs": [],
   "source": [
    "train, test = caracteristicas[500:], caracteristicas[:500] # Se divide la lista en dos, una para entrenar y otra para testear"
   ]
  },
  {
   "cell_type": "code",
   "execution_count": 27,
   "metadata": {},
   "outputs": [],
   "source": [
    "# entrenamiento del modelo NaiveBayes\n",
    "classifier = nltk.NaiveBayesClassifier.train(train) # Entrenamiento del modelo con la lista de entrenamiento"
   ]
  },
  {
   "cell_type": "code",
   "execution_count": 28,
   "metadata": {},
   "outputs": [
    {
     "name": "stdout",
     "output_type": "stream",
     "text": [
      "0.802\n"
     ]
    }
   ],
   "source": [
    "print(nltk.classify.accuracy(classifier, test)) # Se prueba el modelo con la lista de testeo "
   ]
  },
  {
   "cell_type": "code",
   "execution_count": 34,
   "metadata": {},
   "outputs": [
    {
     "name": "stdout",
     "output_type": "stream",
     "text": [
      "femele\n"
     ]
    }
   ],
   "source": [
    "# i want to test the model\n",
    "print(classifier.classify(more_atribs('paula')))"
   ]
  }
 ],
 "metadata": {
  "kernelspec": {
   "display_name": "base",
   "language": "python",
   "name": "python3"
  },
  "language_info": {
   "codemirror_mode": {
    "name": "ipython",
    "version": 3
   },
   "file_extension": ".py",
   "mimetype": "text/x-python",
   "name": "python",
   "nbconvert_exporter": "python",
   "pygments_lexer": "ipython3",
   "version": "3.11.5"
  }
 },
 "nbformat": 4,
 "nbformat_minor": 2
}
