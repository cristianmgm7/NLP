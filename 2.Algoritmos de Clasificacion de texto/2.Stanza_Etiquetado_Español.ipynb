{
 "cells": [
  {
   "cell_type": "code",
   "execution_count": 4,
   "metadata": {},
   "outputs": [
    {
     "data": {
      "application/vnd.jupyter.widget-view+json": {
       "model_id": "e468ec9e12cf4264aa75f0af91672629",
       "version_major": 2,
       "version_minor": 0
      },
      "text/plain": [
       "Downloading https://raw.githubusercontent.com/stanfordnlp/stanza-resources/main/resources_1.6.0.json:   0%|   …"
      ]
     },
     "metadata": {},
     "output_type": "display_data"
    },
    {
     "name": "stderr",
     "output_type": "stream",
     "text": [
      "2023-11-15 10:46:09 INFO: Downloading default packages for language: es (Spanish) ...\n",
      "2023-11-15 10:46:11 INFO: File exists: /Users/cristianmurillo/stanza_resources/es/default.zip\n",
      "2023-11-15 10:46:14 INFO: Finished downloading models and saved to /Users/cristianmurillo/stanza_resources.\n"
     ]
    }
   ],
   "source": [
    "import stanza \n",
    "stanza.download('es') # download English model"
   ]
  },
  {
   "cell_type": "code",
   "execution_count": 5,
   "metadata": {},
   "outputs": [
    {
     "name": "stderr",
     "output_type": "stream",
     "text": [
      "2023-11-15 10:48:46 INFO: Checking for updates to resources.json in case models have been updated.  Note: this behavior can be turned off with download_method=None or download_method=DownloadMethod.REUSE_RESOURCES\n"
     ]
    },
    {
     "data": {
      "application/vnd.jupyter.widget-view+json": {
       "model_id": "47e86ec73a3d49ab83f7505b9cde834b",
       "version_major": 2,
       "version_minor": 0
      },
      "text/plain": [
       "Downloading https://raw.githubusercontent.com/stanfordnlp/stanza-resources/main/resources_1.6.0.json:   0%|   …"
      ]
     },
     "metadata": {},
     "output_type": "display_data"
    },
    {
     "name": "stderr",
     "output_type": "stream",
     "text": [
      "2023-11-15 10:48:46 WARNING: Language es package default expects mwt, which has been added\n",
      "2023-11-15 10:48:47 INFO: Loading these models for language: es (Spanish):\n",
      "=============================\n",
      "| Processor | Package       |\n",
      "-----------------------------\n",
      "| tokenize  | ancora        |\n",
      "| mwt       | ancora        |\n",
      "| pos       | ancora_charlm |\n",
      "=============================\n",
      "\n",
      "2023-11-15 10:48:47 INFO: Using device: cpu\n",
      "2023-11-15 10:48:47 INFO: Loading: tokenize\n",
      "2023-11-15 10:48:48 INFO: Loading: mwt\n",
      "2023-11-15 10:48:48 INFO: Loading: pos\n",
      "2023-11-15 10:48:48 INFO: Done loading processors!\n"
     ]
    }
   ],
   "source": [
    "texto = 'barak obama es el presidente de estados unidos'\n",
    "nlp = stanza.Pipeline('es', processors='tokenize,pos') # initialize English neural pipeline\n",
    "doc = nlp(texto) # run annotation over a sentence\n"
   ]
  },
  {
   "cell_type": "code",
   "execution_count": 8,
   "metadata": {},
   "outputs": [
    {
     "name": "stdout",
     "output_type": "stream",
     "text": [
      "<class 'stanza.pipeline.core.Pipeline'>\n"
     ]
    }
   ],
   "source": [
    "print(type(nlp))"
   ]
  },
  {
   "cell_type": "code",
   "execution_count": 6,
   "metadata": {},
   "outputs": [
    {
     "name": "stdout",
     "output_type": "stream",
     "text": [
      "barak PROPN\n",
      "obama ADJ\n",
      "es AUX\n",
      "el DET\n",
      "presidente NOUN\n",
      "de ADP\n",
      "estados NOUN\n",
      "unidos ADJ\n"
     ]
    }
   ],
   "source": [
    "for sentence in doc.sentences:\n",
    "    for word in sentence.words:\n",
    "        print(word.text, word.pos)"
   ]
  }
 ],
 "metadata": {
  "kernelspec": {
   "display_name": "base",
   "language": "python",
   "name": "python3"
  },
  "language_info": {
   "codemirror_mode": {
    "name": "ipython",
    "version": 3
   },
   "file_extension": ".py",
   "mimetype": "text/x-python",
   "name": "python",
   "nbconvert_exporter": "python",
   "pygments_lexer": "ipython3",
   "version": "3.11.5"
  }
 },
 "nbformat": 4,
 "nbformat_minor": 2
}
