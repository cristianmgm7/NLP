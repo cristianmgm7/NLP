{
 "cells": [
  {
   "cell_type": "code",
   "execution_count": 4,
   "metadata": {},
   "outputs": [
    {
     "name": "stdout",
     "output_type": "stream",
     "text": [
      "[[2 1 1 0 0 1]\n",
      " [1 1 1 0 1 0]\n",
      " [1 0 0 1 1 0]]\n",
      "Vocabulario: ['ejemplo' 'es' 'este' 'más' 'otro' 'un']\n"
     ]
    }
   ],
   "source": [
    "from sklearn.feature_extraction.text import CountVectorizer\n",
    "\n",
    "# Datos de ejemplo\n",
    "documentos = [\n",
    "    \"Este es un ejemplo ejemplo\",\n",
    "    \"Este es otro ejemplo\",\n",
    "    \"Y otro ejemplo más\"\n",
    "]\n",
    "\n",
    "# Crear una instancia de CountVectorizer\n",
    "vectorizer = CountVectorizer()\n",
    "\n",
    "# Ajustar el vectorizador y transformar los documentos en una matriz de recuento\n",
    "matriz_recuento = vectorizer.fit_transform(documentos)\n",
    "\n",
    "# La matriz_recuento es una matriz dispersa que contiene las frecuencias de las palabras\n",
    "# Cada fila representa un documento, y cada columna representa una palabra única en el conjunto de documentos\n",
    "print(matriz_recuento.toarray())\n",
    "\n",
    "# Obtener el vocabulario (las palabras únicas en todos los documentos)\n",
    "vocabulario = vectorizer.get_feature_names_out()\n",
    "print(\"Vocabulario:\", vocabulario)\n"
   ]
  }
 ],
 "metadata": {
  "kernelspec": {
   "display_name": "base",
   "language": "python",
   "name": "python3"
  },
  "language_info": {
   "codemirror_mode": {
    "name": "ipython",
    "version": 3
   },
   "file_extension": ".py",
   "mimetype": "text/x-python",
   "name": "python",
   "nbconvert_exporter": "python",
   "pygments_lexer": "ipython3",
   "version": "3.11.5"
  }
 },
 "nbformat": 4,
 "nbformat_minor": 2
}
