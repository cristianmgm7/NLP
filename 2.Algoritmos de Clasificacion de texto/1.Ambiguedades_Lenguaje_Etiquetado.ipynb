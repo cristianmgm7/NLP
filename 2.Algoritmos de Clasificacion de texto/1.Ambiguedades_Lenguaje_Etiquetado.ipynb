{
 "cells": [
  {
   "cell_type": "markdown",
   "metadata": {},
   "source": [
    "**AMBIGUEDADES DEL LENGUAJE**\n",
    "\n",
    "**Objetivo:** Identificar ambiguedades en el lenguaje de los texto\n",
    "\n",
    "POR AGRUPACIONES DE PALABRAS:\n",
    "- Palabras que pueden tener varios significados\n",
    "- Palabras que pueden tener varios significados y que pueden ser usadas como sustantivo o verbo\n",
    "- Palabras que pueden tener varios significados y que pueden ser usadas como sustantivo o verbo y que pueden ser usadas en diferentes tiempos verbales\n",
    "- Palabras que pueden tener varios significados y que pueden ser usadas como sustantivo o verbo y que pueden ser usadas en diferentes tiempos verbales y que pueden ser usadas en diferentes personas gramaticales\n",
    "\n",
    "FUNCIONAMIENTO:\n",
    "- Se obtienen las palabras que pueden tener varios significados\n",
    "- Se obtienen las palabras que pueden tener varios significados y que pueden ser usadas como sustantivo o verbo\n",
    "\n",
    "LEXICOS:\n",
    "- Se obtienen las palabras que pueden tener varios significados y que pueden ser usadas como sustantivo o verbo y que pueden ser usadas en diferentes tiempos verbales\n",
    "- Se obtienen las palabras que pueden tener varios significados y que pueden ser usadas como sustantivo o verbo y que pueden ser usadas en diferentes tiempos verbales y que pueden ser usadas en diferentes personas gramaticales\n"
   ]
  },
  {
   "cell_type": "markdown",
   "metadata": {},
   "source": [
    "El problema del lenguaje es la ambiguedad y se resuleve con algoritmos de clasificacion con el etiquetado de palabras"
   ]
  },
  {
   "cell_type": "code",
   "execution_count": 1,
   "metadata": {},
   "outputs": [
    {
     "name": "stderr",
     "output_type": "stream",
     "text": [
      "[nltk_data] Downloading package punkt to\n",
      "[nltk_data]     /Users/cristianmurillo/nltk_data...\n",
      "[nltk_data]   Package punkt is already up-to-date!\n",
      "[nltk_data] Downloading package averaged_perceptron_tagger to\n",
      "[nltk_data]     /Users/cristianmurillo/nltk_data...\n",
      "[nltk_data]   Package averaged_perceptron_tagger is already up-to-\n",
      "[nltk_data]       date!\n"
     ]
    }
   ],
   "source": [
    "import nltk \n",
    "nltk.download('punkt') # Tokenizador\n",
    "nltk.download('averaged_perceptron_tagger') # Etiquetador\n",
    "from nltk import word_tokenize, pos_tag "
   ]
  },
  {
   "cell_type": "code",
   "execution_count": 22,
   "metadata": {},
   "outputs": [],
   "source": [
    "text = \"they don't permit to others people to get a resident permit.\"\n",
    "tokens = word_tokenize(text)\n",
    "tique = pos_tag(tokens)"
   ]
  },
  {
   "cell_type": "code",
   "execution_count": 23,
   "metadata": {},
   "outputs": [
    {
     "data": {
      "text/plain": [
       "[('they', 'PRP'),\n",
       " ('do', 'VBP'),\n",
       " (\"n't\", 'RB'),\n",
       " ('permit', 'VB'),\n",
       " ('to', 'TO'),\n",
       " ('others', 'NNS'),\n",
       " ('people', 'NNS'),\n",
       " ('to', 'TO'),\n",
       " ('get', 'VB'),\n",
       " ('a', 'DT'),\n",
       " ('resident', 'JJ'),\n",
       " ('permit', 'NN'),\n",
       " ('.', '.')]"
      ]
     },
     "execution_count": 23,
     "metadata": {},
     "output_type": "execute_result"
    }
   ],
   "source": [
    "tique"
   ]
  },
  {
   "cell_type": "code",
   "execution_count": 1,
   "metadata": {},
   "outputs": [
    {
     "ename": "NameError",
     "evalue": "name 'tique' is not defined",
     "output_type": "error",
     "traceback": [
      "\u001b[0;31m---------------------------------------------------------------------------\u001b[0m",
      "\u001b[0;31mNameError\u001b[0m                                 Traceback (most recent call last)",
      "\u001b[1;32m/Users/cristianmurillo/Documents/Data scientis /NLP/Algoritmos de Clasificacion de texto/1.Ambiguedades_Lenguaje_Etiquetado.ipynb Cell 6\u001b[0m line \u001b[0;36m5\n\u001b[1;32m      <a href='vscode-notebook-cell:/Users/cristianmurillo/Documents/Data%20scientis%20/NLP/Algoritmos%20de%20Clasificacion%20de%20texto/1.Ambiguedades_Lenguaje_Etiquetado.ipynb#W5sZmlsZQ%3D%3D?line=0'>1</a>\u001b[0m \u001b[39m# categorias gramaticales\u001b[39;00m\n\u001b[1;32m      <a href='vscode-notebook-cell:/Users/cristianmurillo/Documents/Data%20scientis%20/NLP/Algoritmos%20de%20Clasificacion%20de%20texto/1.Ambiguedades_Lenguaje_Etiquetado.ipynb#W5sZmlsZQ%3D%3D?line=1'>2</a>\u001b[0m \u001b[39m#nltk.download('tagsets')\u001b[39;00m\n\u001b[1;32m      <a href='vscode-notebook-cell:/Users/cristianmurillo/Documents/Data%20scientis%20/NLP/Algoritmos%20de%20Clasificacion%20de%20texto/1.Ambiguedades_Lenguaje_Etiquetado.ipynb#W5sZmlsZQ%3D%3D?line=2'>3</a>\u001b[0m \u001b[39m#nltk.help.upenn_tagset()\u001b[39;00m\n\u001b[0;32m----> <a href='vscode-notebook-cell:/Users/cristianmurillo/Documents/Data%20scientis%20/NLP/Algoritmos%20de%20Clasificacion%20de%20texto/1.Ambiguedades_Lenguaje_Etiquetado.ipynb#W5sZmlsZQ%3D%3D?line=4'>5</a>\u001b[0m \u001b[39mfor\u001b[39;00m l \u001b[39min\u001b[39;00m tique: \n\u001b[1;32m      <a href='vscode-notebook-cell:/Users/cristianmurillo/Documents/Data%20scientis%20/NLP/Algoritmos%20de%20Clasificacion%20de%20texto/1.Ambiguedades_Lenguaje_Etiquetado.ipynb#W5sZmlsZQ%3D%3D?line=5'>6</a>\u001b[0m      \u001b[39mprint\u001b[39m(nltk\u001b[39m.\u001b[39mhelp\u001b[39m.\u001b[39mupenn_tagset(l[\u001b[39m1\u001b[39m]))\n",
      "\u001b[0;31mNameError\u001b[0m: name 'tique' is not defined"
     ]
    }
   ],
   "source": [
    "# categorias gramaticales\n",
    "#nltk.download('tagsets')\n",
    "#nltk.help.upenn_tagset()\n",
    "\n",
    "for l in tique: \n",
    "     print(nltk.help.upenn_tagset(l[1]))\n"
   ]
  },
  {
   "cell_type": "markdown",
   "metadata": {},
   "source": [
    "En el español es diferente porque NLTK no tiene algoritmos pre entrenados para español\n"
   ]
  },
  {
   "cell_type": "code",
   "execution_count": 36,
   "metadata": {},
   "outputs": [
    {
     "name": "stderr",
     "output_type": "stream",
     "text": [
      "[nltk_data] Downloading package cess_esp to\n",
      "[nltk_data]     /Users/cristianmurillo/nltk_data...\n",
      "[nltk_data]   Package cess_esp is already up-to-date!\n"
     ]
    }
   ],
   "source": [
    "nltk.download('cess_esp')\n",
    "from nltk.corpus import cess_esp as cess\n",
    "from nltk import UnigramTagger as ut\n",
    "from nltk import BigramTagger as bt\n"
   ]
  },
  {
   "cell_type": "code",
   "execution_count": 37,
   "metadata": {},
   "outputs": [
    {
     "name": "stderr",
     "output_type": "stream",
     "text": [
      "/var/folders/2s/pqhnf_qn3c1g66nvczhrmldw0000gn/T/ipykernel_65007/488303478.py:4: DeprecationWarning: \n",
      "  Function evaluate() has been deprecated.  Use accuracy(gold)\n",
      "  instead.\n",
      "  uni_tag.evaluate(cess_sents[fraction+1:])\n"
     ]
    },
    {
     "data": {
      "text/plain": [
       "0.8069484240687679"
      ]
     },
     "execution_count": 37,
     "metadata": {},
     "output_type": "execute_result"
    }
   ],
   "source": [
    "# Dividimos el corpus en dos partes, 90% para entrenamiento y 10% para prueba\n",
    "# se entrena para que el tagger aprenda a etiquetar en español usando el corpus cess_esp con unigramas\n",
    "fraction = int(len(cess.tagged_sents()) * 90 / 100)\n",
    "cess_sents = cess.tagged_sents()\n",
    "uni_tag = ut(cess_sents[:fraction])\n",
    "uni_tag.evaluate(cess_sents[fraction+1:])"
   ]
  },
  {
   "cell_type": "code",
   "execution_count": 38,
   "metadata": {},
   "outputs": [
    {
     "data": {
      "text/plain": [
       "[('Yo', 'pp1csn00'),\n",
       " ('soy', 'vsip1s0'),\n",
       " ('un', 'di0ms0'),\n",
       " ('hombre', 'ncms000'),\n",
       " ('muy', 'rg'),\n",
       " ('honrado', None),\n",
       " (',', 'Fc'),\n",
       " ('que', 'pr0cn000'),\n",
       " ('me', 'pp1cs000'),\n",
       " ('gusta', 'vmip3s0'),\n",
       " ('lo', 'da0ns0'),\n",
       " ('mejor', 'aq0cs0')]"
      ]
     },
     "execution_count": 38,
     "metadata": {},
     "output_type": "execute_result"
    }
   ],
   "source": [
    "texto = \" Yo soy un hombre muy honrado, que me gusta lo mejor\"\n",
    "tokens = word_tokenize(texto)\n",
    "uni_tag.tag(tokens)"
   ]
  },
  {
   "cell_type": "code",
   "execution_count": 40,
   "metadata": {},
   "outputs": [
    {
     "name": "stderr",
     "output_type": "stream",
     "text": [
      "/var/folders/2s/pqhnf_qn3c1g66nvczhrmldw0000gn/T/ipykernel_65007/132087076.py:6: DeprecationWarning: \n",
      "  Function evaluate() has been deprecated.  Use accuracy(gold)\n",
      "  instead.\n",
      "  big_tag.evaluate(cess_sents[fraction+1:])\n"
     ]
    },
    {
     "data": {
      "text/plain": [
       "0.1095272206303725"
      ]
     },
     "execution_count": 40,
     "metadata": {},
     "output_type": "execute_result"
    }
   ],
   "source": [
    "# Dividimos el corpus en dos partes, 90% para entrenamiento y 10% para prueba\n",
    "# se entrena para que el tagger aprenda a etiquetar en español usando el corpus cess_esp con bigramas\n",
    "fraction = int(len(cess.tagged_sents()) * 90 / 100)\n",
    "cess_sents = cess.tagged_sents()\n",
    "big_tag = bt(cess_sents[:fraction])\n",
    "big_tag.evaluate(cess_sents[fraction+1:])\n"
   ]
  },
  {
   "cell_type": "code",
   "execution_count": 42,
   "metadata": {},
   "outputs": [
    {
     "data": {
      "text/plain": [
       "[('Yo', 'pp1csn00'),\n",
       " ('soy', 'vsip1s0'),\n",
       " ('un', 'di0ms0'),\n",
       " ('hombre', 'ncms000'),\n",
       " ('muy', 'rg'),\n",
       " ('honrado', None),\n",
       " (',', None),\n",
       " ('que', None),\n",
       " ('me', None),\n",
       " ('gusta', None),\n",
       " ('lo', None),\n",
       " ('mejor', None)]"
      ]
     },
     "execution_count": 42,
     "metadata": {},
     "output_type": "execute_result"
    }
   ],
   "source": [
    "# the accuracy of the tagger in bigrams is lower than in unigrams\n",
    "texto2 = \" Yo soy un hombre muy honrado, que me gusta lo mejor\"\n",
    "tokens2 = word_tokenize(texto2)\n",
    "big_tag.tag(tokens2)\n"
   ]
  }
 ],
 "metadata": {
  "kernelspec": {
   "display_name": "base",
   "language": "python",
   "name": "python3"
  },
  "language_info": {
   "codemirror_mode": {
    "name": "ipython",
    "version": 3
   },
   "file_extension": ".py",
   "mimetype": "text/x-python",
   "name": "python",
   "nbconvert_exporter": "python",
   "pygments_lexer": "ipython3",
   "version": "3.11.5"
  }
 },
 "nbformat": 4,
 "nbformat_minor": 2
}
